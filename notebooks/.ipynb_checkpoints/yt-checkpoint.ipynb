{
 "cells": [
  {
   "cell_type": "code",
   "execution_count": 1,
   "metadata": {
    "pycharm": {
     "name": "#%%\n"
    },
    "tags": []
   },
   "outputs": [],
   "source": [
    "import pandas as  pd\n",
    "import numpy as np\n",
    "from source import youtube"
   ]
  },
  {
   "cell_type": "code",
   "execution_count": 2,
   "metadata": {
    "pycharm": {
     "name": "#%%\n"
    }
   },
   "outputs": [],
   "source": [
    "def extract_ytchannel_metadata(res, save_csv=None):\n",
    "    titles = []\n",
    "    published = []\n",
    "    videoIds = []\n",
    "\n",
    "    for i in range(len(res)):\n",
    "        titles.append(res[i]['snippet']['title'])\n",
    "        published.append(res[i]['snippet']['publishedAt'])\n",
    "        videoIds.append(res[i]['snippet']['resourceId']['videoId'])\n",
    "\n",
    "    data = np.stack([titles, videoIds, published])\n",
    "    data = data.T\n",
    "    df = pd.DataFrame(data, columns=['titles', 'videoIds', 'publishedAt'])\n",
    "    df.head()\n",
    "\n",
    "    if save_csv is not None:\n",
    "        df.to_csv(save_csv, index=None)\n",
    "        \n",
    "    return df\n"
   ]
  },
  {
   "cell_type": "code",
   "execution_count": 5,
   "metadata": {
    "pycharm": {
     "name": "#%%\n"
    }
   },
   "outputs": [],
   "source": [
    "nass = youtube.get_channel_videos('UUF45Z0qCtC3QEB6yoBKMUJQ')\n",
    "nass_df = extract_ytchannel_metadata(nass, \"../nass_04062021.csv\")"
   ]
  },
  {
   "cell_type": "code",
   "execution_count": 6,
   "metadata": {},
   "outputs": [
    {
     "data": {
      "text/html": [
       "<div>\n",
       "<style scoped>\n",
       "    .dataframe tbody tr th:only-of-type {\n",
       "        vertical-align: middle;\n",
       "    }\n",
       "\n",
       "    .dataframe tbody tr th {\n",
       "        vertical-align: top;\n",
       "    }\n",
       "\n",
       "    .dataframe thead th {\n",
       "        text-align: right;\n",
       "    }\n",
       "</style>\n",
       "<table border=\"1\" class=\"dataframe\">\n",
       "  <thead>\n",
       "    <tr style=\"text-align: right;\">\n",
       "      <th></th>\n",
       "      <th>titles</th>\n",
       "      <th>videoIds</th>\n",
       "      <th>publishedAt</th>\n",
       "    </tr>\n",
       "  </thead>\n",
       "  <tbody>\n",
       "    <tr>\n",
       "      <th>0</th>\n",
       "      <td>Federal University of Agriculture Ugbawka: Hon...</td>\n",
       "      <td>pn0WjQvwsSQ</td>\n",
       "      <td>2022-04-12T15:25:57Z</td>\n",
       "    </tr>\n",
       "    <tr>\n",
       "      <th>1</th>\n",
       "      <td>Anambra Kidnap: I Suspect IPOB Militants - Hon...</td>\n",
       "      <td>PWnaQsgp4Uk</td>\n",
       "      <td>2022-03-04T12:54:32Z</td>\n",
       "    </tr>\n",
       "    <tr>\n",
       "      <th>2</th>\n",
       "      <td>Bill to Exempt Police from Contributory Pensio...</td>\n",
       "      <td>7Kpp3wnohS0</td>\n",
       "      <td>2022-02-23T10:34:56Z</td>\n",
       "    </tr>\n",
       "    <tr>\n",
       "      <th>3</th>\n",
       "      <td>Lift Embargo On Employment Into Customs, NSCDC...</td>\n",
       "      <td>JgV-LR0AFF8</td>\n",
       "      <td>2021-12-02T10:22:51Z</td>\n",
       "    </tr>\n",
       "    <tr>\n",
       "      <th>4</th>\n",
       "      <td>Paper On Net Zero Laws, NDCs And Green Recover...</td>\n",
       "      <td>8zRu0Q3tWak</td>\n",
       "      <td>2021-11-11T13:52:26Z</td>\n",
       "    </tr>\n",
       "    <tr>\n",
       "      <th>5</th>\n",
       "      <td>Summon FCT Minister Over Abandoned Infrastruct...</td>\n",
       "      <td>W50xybIGpDU</td>\n",
       "      <td>2021-11-09T15:33:17Z</td>\n",
       "    </tr>\n",
       "    <tr>\n",
       "      <th>6</th>\n",
       "      <td>Seven Members Impeach Plateau Assembly Speaker...</td>\n",
       "      <td>42okUMisN38</td>\n",
       "      <td>2021-11-08T15:22:18Z</td>\n",
       "    </tr>\n",
       "    <tr>\n",
       "      <th>7</th>\n",
       "      <td>Nigeria College of Aviation Technology: Oversi...</td>\n",
       "      <td>Ux2-iRHg4_0</td>\n",
       "      <td>2021-11-08T15:00:03Z</td>\n",
       "    </tr>\n",
       "    <tr>\n",
       "      <th>8</th>\n",
       "      <td>NCAT, Abuja School Building Project: Visit By ...</td>\n",
       "      <td>6SD6Y0SKouQ</td>\n",
       "      <td>2021-11-08T14:09:03Z</td>\n",
       "    </tr>\n",
       "    <tr>\n",
       "      <th>9</th>\n",
       "      <td>Public Hearing: House Committee On Privatisati...</td>\n",
       "      <td>_MyCd6G3oU8</td>\n",
       "      <td>2021-10-28T14:21:44Z</td>\n",
       "    </tr>\n",
       "  </tbody>\n",
       "</table>\n",
       "</div>"
      ],
      "text/plain": [
       "                                              titles     videoIds  \\\n",
       "0  Federal University of Agriculture Ugbawka: Hon...  pn0WjQvwsSQ   \n",
       "1  Anambra Kidnap: I Suspect IPOB Militants - Hon...  PWnaQsgp4Uk   \n",
       "2  Bill to Exempt Police from Contributory Pensio...  7Kpp3wnohS0   \n",
       "3  Lift Embargo On Employment Into Customs, NSCDC...  JgV-LR0AFF8   \n",
       "4  Paper On Net Zero Laws, NDCs And Green Recover...  8zRu0Q3tWak   \n",
       "5  Summon FCT Minister Over Abandoned Infrastruct...  W50xybIGpDU   \n",
       "6  Seven Members Impeach Plateau Assembly Speaker...  42okUMisN38   \n",
       "7  Nigeria College of Aviation Technology: Oversi...  Ux2-iRHg4_0   \n",
       "8  NCAT, Abuja School Building Project: Visit By ...  6SD6Y0SKouQ   \n",
       "9  Public Hearing: House Committee On Privatisati...  _MyCd6G3oU8   \n",
       "\n",
       "            publishedAt  \n",
       "0  2022-04-12T15:25:57Z  \n",
       "1  2022-03-04T12:54:32Z  \n",
       "2  2022-02-23T10:34:56Z  \n",
       "3  2021-12-02T10:22:51Z  \n",
       "4  2021-11-11T13:52:26Z  \n",
       "5  2021-11-09T15:33:17Z  \n",
       "6  2021-11-08T15:22:18Z  \n",
       "7  2021-11-08T15:00:03Z  \n",
       "8  2021-11-08T14:09:03Z  \n",
       "9  2021-10-28T14:21:44Z  "
      ]
     },
     "execution_count": 6,
     "metadata": {},
     "output_type": "execute_result"
    }
   ],
   "source": [
    "nass_df.head(10)"
   ]
  },
  {
   "cell_type": "code",
   "execution_count": 10,
   "metadata": {},
   "outputs": [],
   "source": [
    "vid_url = []\n",
    "\n",
    "for line in nass_df[\"videoIds\"]:\n",
    "    url = \"https://www.youtube.com/watch?v=\"+line\n",
    "    vid_url.append(url)"
   ]
  },
  {
   "cell_type": "code",
   "execution_count": 13,
   "metadata": {},
   "outputs": [],
   "source": [
    "nass_df['video_urls'] = vid_url"
   ]
  },
  {
   "cell_type": "code",
   "execution_count": null,
   "metadata": {},
   "outputs": [],
   "source": []
  },
  {
   "cell_type": "code",
   "execution_count": null,
   "metadata": {},
   "outputs": [],
   "source": []
  },
  {
   "cell_type": "code",
   "execution_count": 39,
   "metadata": {
    "pycharm": {
     "name": "#%%\n"
    }
   },
   "outputs": [],
   "source": [
    "import sqlite3"
   ]
  },
  {
   "cell_type": "code",
   "execution_count": 40,
   "metadata": {
    "pycharm": {
     "name": "#%%\n"
    }
   },
   "outputs": [],
   "source": [
    "conn = sqlite3.connect('opennass.db')\n",
    "curr = conn.cursor()\n",
    "\n",
    "\n",
    "\n",
    "conn.commit()\n"
   ]
  },
  {
   "cell_type": "code",
   "execution_count": 42,
   "metadata": {
    "pycharm": {
     "name": "#%%\n"
    }
   },
   "outputs": [],
   "source": [
    "def extract_ytchannel_to_db(res, sqlDB=None):\n",
    "    titles = []\n",
    "    published = []\n",
    "    videoIds = []\n",
    "\n",
    "    for i in range(len(res)):\n",
    "        titles.append(res[i]['snippet']['title'])\n",
    "        published.append(res[i]['snippet']['publishedAt'])\n",
    "        videoIds.append(res[i]['snippet']['resourceId']['videoId'])\n",
    "\n",
    "    \n",
    "    conn = sqlite3.connect(sqlDB)\n",
    "    c = conn.cursor()\n",
    "    c.execute('''create table opennass(titles text,\n",
    "    publised text,\n",
    "    videoIds text\n",
    "    )''')\n",
    "    conn.commit()\n",
    "\n",
    "\n",
    "\n",
    "    if sqlDB is not None:\n",
    "        c.execute(''' INSERT INTO opennass VALUES(?,?,?)''',(titles, published, videoIds))\n",
    "        conn.commit()\n",
    "        \n",
    "    return"
   ]
  },
  {
   "cell_type": "code",
   "execution_count": 43,
   "metadata": {
    "pycharm": {
     "name": "#%%\n"
    }
   },
   "outputs": [],
   "source": [
    "res = youtube.get_channel_videos('UUF45Z0qCtC3QEB6yoBKMUJQ')"
   ]
  },
  {
   "cell_type": "code",
   "execution_count": 41,
   "metadata": {
    "pycharm": {
     "name": "#%%\n"
    }
   },
   "outputs": [],
   "source": [
    "curr.execute('''create table onass(titles text,\n",
    "    publised text,\n",
    "    videoIds text\n",
    "    )''')\n",
    "conn.commit()    "
   ]
  },
  {
   "cell_type": "code",
   "execution_count": 49,
   "metadata": {
    "pycharm": {
     "name": "#%%\n"
    }
   },
   "outputs": [],
   "source": [
    "titles = []\n",
    "published = []\n",
    "videoIds = []\n",
    "\n",
    "for i in range(len(res)):\n",
    "        titles.append(res[i]['snippet']['title'])\n",
    "        published.append(res[i]['snippet']['publishedAt'])\n",
    "        videoIds.append(res[i]['snippet']['resourceId']['videoId'])\n",
    "\n",
    "\n",
    "    "
   ]
  },
  {
   "cell_type": "code",
   "execution_count": 51,
   "metadata": {
    "pycharm": {
     "name": "#%%\n"
    }
   },
   "outputs": [
    {
     "ename": "NameError",
     "evalue": "name 'c' is not defined",
     "output_type": "error",
     "traceback": [
      "\u001b[0;31m---------------------------------------------------------------------------\u001b[0m",
      "\u001b[0;31mNameError\u001b[0m                                 Traceback (most recent call last)",
      "\u001b[0;32m<ipython-input-51-0e5be364b00a>\u001b[0m in \u001b[0;36m<module>\u001b[0;34m\u001b[0m\n\u001b[0;32m----> 1\u001b[0;31m \u001b[0mc\u001b[0m\u001b[0;34m.\u001b[0m\u001b[0mexecute\u001b[0m\u001b[0;34m(\u001b[0m\u001b[0;34m''' INSERT INTO onass VALUES(?,?,?)'''\u001b[0m\u001b[0;34m,\u001b[0m\u001b[0;34m(\u001b[0m\u001b[0mtitles\u001b[0m\u001b[0;34m,\u001b[0m \u001b[0mpublished\u001b[0m\u001b[0;34m,\u001b[0m \u001b[0mvideoIds\u001b[0m\u001b[0;34m)\u001b[0m\u001b[0;34m)\u001b[0m\u001b[0;34m\u001b[0m\u001b[0;34m\u001b[0m\u001b[0m\n\u001b[0m\u001b[1;32m      2\u001b[0m \u001b[0mconn\u001b[0m\u001b[0;34m.\u001b[0m\u001b[0mcommit\u001b[0m\u001b[0;34m(\u001b[0m\u001b[0;34m)\u001b[0m\u001b[0;34m\u001b[0m\u001b[0;34m\u001b[0m\u001b[0m\n",
      "\u001b[0;31mNameError\u001b[0m: name 'c' is not defined"
     ]
    }
   ],
   "source": [
    "curr.execute(''' INSERT INTO onass VALUES(?,?,?)''',(titles, published, videoIds))\n",
    "conn.commit()"
   ]
  },
  {
   "cell_type": "code",
   "execution_count": null,
   "metadata": {
    "pycharm": {
     "name": "#%%\n"
    }
   },
   "outputs": [],
   "source": [
    "def data_entry():\n",
    "    res_df.to_sql('onass', conn, if_exists='replace')\n",
    "    conn.commit()\n",
    "    curr.close()\n",
    "    conn.close()\n",
    " \n",
    "data_entry()"
   ]
  }
 ],
 "metadata": {
  "kernelspec": {
   "display_name": "Python 3 (ipykernel)",
   "language": "python",
   "name": "python3"
  },
  "language_info": {
   "codemirror_mode": {
    "name": "ipython",
    "version": 3
   },
   "file_extension": ".py",
   "mimetype": "text/x-python",
   "name": "python",
   "nbconvert_exporter": "python",
   "pygments_lexer": "ipython3",
   "version": "3.9.12"
  }
 },
 "nbformat": 4,
 "nbformat_minor": 2
}
