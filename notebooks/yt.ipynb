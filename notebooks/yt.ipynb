{
 "cells": [
  {
   "cell_type": "code",
   "execution_count": 28,
   "metadata": {
    "pycharm": {
     "name": "#%%\n"
    },
    "tags": []
   },
   "outputs": [],
   "source": [
    "import pandas as  pd\n",
    "import numpy as np\n",
    "from source import youtube"
   ]
  },
  {
   "cell_type": "code",
   "execution_count": null,
   "outputs": [],
   "source": [
    "def extract_ytchannel_metadata(res, save_csv=None):\n",
    "    titles = []\n",
    "    published = []\n",
    "    videoIds = []\n",
    "\n",
    "    for i in range(len(res)):\n",
    "        titles.append(res[i]['snippet']['title'])\n",
    "        published.append(res[i]['snippet']['publishedAt'])\n",
    "        videoIds.append(res[i]['snippet']['resourceId']['videoId'])\n",
    "       \n",
    "\n",
    "    data = np.stack([titles, videoIds, published])\n",
    "    data = data.T\n",
    "    df = pd.DataFrame(data, columns=['titles', 'videoIds', 'publishedAt'])\n",
    "    \n",
    "    vid_urls = []\n",
    "\n",
    "    for line in nass_df[\"videoIds\"]:\n",
    "        url = \"https://www.youtube.com/watch?v=\"+line\n",
    "        vid_urls.append(url)\n",
    "        \n",
    "    df['video_urls'] = vid_urls    \n",
    "    \n",
    "    with open('Vid_Ids.txt', 'w') as f:\n",
    "        for Id in videoIds:\n",
    "            f.write(f\"{Id}\\n\")     \n",
    "        \n",
    "    with open('Vid_urls.txt', 'w') as f:\n",
    "        for url in vid_urls:\n",
    "            f.write(f\"{url}\\n\")              \n",
    "    \n",
    "    \n",
    "    \n",
    "    if save_csv is not None:\n",
    "        df.to_csv(save_csv, index=None)\n",
    "        \n",
    "    return df\n"
   ],
   "metadata": {
    "collapsed": false,
    "pycharm": {
     "name": "#%%\n"
    }
   }
  },
  {
   "cell_type": "code",
   "execution_count": null,
   "outputs": [],
   "source": [
    "nass = youtube.get_channel_videos('UUF45Z0qCtC3QEB6yoBKMUJQ')\n",
    "nass_df = extract_ytchannel_metadata(nass, \"../nass_ng.csv\")"
   ],
   "metadata": {
    "collapsed": false,
    "pycharm": {
     "name": "#%%\n"
    }
   }
  },
  {
   "cell_type": "code",
   "execution_count": null,
   "outputs": [],
   "source": [
    "nass_df.head(10)"
   ],
   "metadata": {
    "collapsed": false,
    "pycharm": {
     "name": "#%%\n"
    }
   }
  },
  {
   "cell_type": "code",
   "execution_count": null,
   "outputs": [],
   "source": [
    "vid_url = []\n",
    "\n",
    "for line in nass_df[\"videoIds\"]:\n",
    "    url = \"https://www.youtube.com/watch?v=\"+line\n",
    "    vid_url.append(url)"
   ],
   "metadata": {
    "collapsed": false,
    "pycharm": {
     "name": "#%%\n"
    }
   }
  },
  {
   "cell_type": "code",
   "execution_count": null,
   "outputs": [],
   "source": [
    "nass_df['video_urls'] = vid_url"
   ],
   "metadata": {
    "collapsed": false,
    "pycharm": {
     "name": "#%%\n"
    }
   }
  },
  {
   "cell_type": "code",
   "execution_count": null,
   "outputs": [],
   "source": [
    "nass_df.head()"
   ],
   "metadata": {
    "collapsed": false,
    "pycharm": {
     "name": "#%%\n"
    }
   }
  },
  {
   "cell_type": "code",
   "execution_count": null,
   "outputs": [],
   "source": [
    "nass_df.info()"
   ],
   "metadata": {
    "collapsed": false,
    "pycharm": {
     "name": "#%%\n"
    }
   }
  },
  {
   "cell_type": "code",
   "execution_count": null,
   "outputs": [],
   "source": [
    "def extract_ytchannel_metadata(res, save_csv=None):\n",
    "    titles = []\n",
    "    published = []\n",
    "    videoIds = []\n",
    "    duration = []\n",
    "\n",
    "    for i in range(len(res)):\n",
    "        titles.append(res[i]['snippet']['title'])\n",
    "        published.append(res[i]['snippet']['publishedAt'])\n",
    "        videoIds.append(res[i]['snippet']['resourceId']['videoId'])\n",
    "        #duration.append(res[i]['contentDetails']['duration'])\n",
    "\n",
    "    data = np.stack([titles, videoIds, published])\n",
    "    data = data.T\n",
    "    df = pd.DataFrame(data, columns=['titles', 'videoIds', 'publishedAt'])\n",
    "    df.head()\n",
    "\n",
    "    if save_csv is not None:\n",
    "        df.to_csv(save_csv, index=None)\n",
    "        \n",
    "    return df\n",
    "\n"
   ],
   "metadata": {
    "collapsed": false,
    "pycharm": {
     "name": "#%%\n"
    }
   }
  },
  {
   "cell_type": "code",
   "execution_count": 40,
   "metadata": {},
   "outputs": [],
   "source": [
    "nass = youtube.get_channel_videos('UUF45Z0qCtC3QEB6yoBKMUJQ')\n",
    "nass_df = extract_ytchannel_metadata(nass, \"../nass_04062021.csv\")"
   ]
  },
  {
   "cell_type": "code",
   "execution_count": 41,
   "metadata": {},
   "outputs": [
    {
     "data": {
      "text/html": [
       "<div>\n",
       "<style scoped>\n",
       "    .dataframe tbody tr th:only-of-type {\n",
       "        vertical-align: middle;\n",
       "    }\n",
       "\n",
       "    .dataframe tbody tr th {\n",
       "        vertical-align: top;\n",
       "    }\n",
       "\n",
       "    .dataframe thead th {\n",
       "        text-align: right;\n",
       "    }\n",
       "</style>\n",
       "<table border=\"1\" class=\"dataframe\">\n",
       "  <thead>\n",
       "    <tr style=\"text-align: right;\">\n",
       "      <th></th>\n",
       "      <th>titles</th>\n",
       "      <th>videoIds</th>\n",
       "      <th>publishedAt</th>\n",
       "    </tr>\n",
       "  </thead>\n",
       "  <tbody>\n",
       "    <tr>\n",
       "      <th>0</th>\n",
       "      <td>Federal University of Agriculture Ugbawka: Hon...</td>\n",
       "      <td>pn0WjQvwsSQ</td>\n",
       "      <td>2022-04-12T15:25:57Z</td>\n",
       "    </tr>\n",
       "    <tr>\n",
       "      <th>1</th>\n",
       "      <td>Anambra Kidnap: I Suspect IPOB Militants - Hon...</td>\n",
       "      <td>PWnaQsgp4Uk</td>\n",
       "      <td>2022-03-04T12:54:32Z</td>\n",
       "    </tr>\n",
       "    <tr>\n",
       "      <th>2</th>\n",
       "      <td>Bill to Exempt Police from Contributory Pensio...</td>\n",
       "      <td>7Kpp3wnohS0</td>\n",
       "      <td>2022-02-23T10:34:56Z</td>\n",
       "    </tr>\n",
       "    <tr>\n",
       "      <th>3</th>\n",
       "      <td>Lift Embargo On Employment Into Customs, NSCDC...</td>\n",
       "      <td>JgV-LR0AFF8</td>\n",
       "      <td>2021-12-02T10:22:51Z</td>\n",
       "    </tr>\n",
       "    <tr>\n",
       "      <th>4</th>\n",
       "      <td>Paper On Net Zero Laws, NDCs And Green Recover...</td>\n",
       "      <td>8zRu0Q3tWak</td>\n",
       "      <td>2021-11-11T13:52:26Z</td>\n",
       "    </tr>\n",
       "  </tbody>\n",
       "</table>\n",
       "</div>"
      ],
      "text/plain": [
       "                                              titles     videoIds  \\\n",
       "0  Federal University of Agriculture Ugbawka: Hon...  pn0WjQvwsSQ   \n",
       "1  Anambra Kidnap: I Suspect IPOB Militants - Hon...  PWnaQsgp4Uk   \n",
       "2  Bill to Exempt Police from Contributory Pensio...  7Kpp3wnohS0   \n",
       "3  Lift Embargo On Employment Into Customs, NSCDC...  JgV-LR0AFF8   \n",
       "4  Paper On Net Zero Laws, NDCs And Green Recover...  8zRu0Q3tWak   \n",
       "\n",
       "            publishedAt  \n",
       "0  2022-04-12T15:25:57Z  \n",
       "1  2022-03-04T12:54:32Z  \n",
       "2  2022-02-23T10:34:56Z  \n",
       "3  2021-12-02T10:22:51Z  \n",
       "4  2021-11-11T13:52:26Z  "
      ]
     },
     "execution_count": 41,
     "metadata": {},
     "output_type": "execute_result"
    }
   ],
   "source": [
    "nass_df.head()"
   ]
  },
  {
   "cell_type": "code",
   "execution_count": 39,
   "metadata": {
    "pycharm": {
     "name": "#%%\n"
    }
   },
   "outputs": [],
   "source": [
    "import sqlite3"
   ]
  },
  {
   "cell_type": "code",
   "execution_count": 40,
   "metadata": {
    "pycharm": {
     "name": "#%%\n"
    }
   },
   "outputs": [],
   "source": [
    "conn = sqlite3.connect('opennass.db')\n",
    "curr = conn.cursor()\n",
    "\n",
    "\n",
    "\n",
    "conn.commit()\n"
   ]
  },
  {
   "cell_type": "code",
   "execution_count": 42,
   "metadata": {
    "pycharm": {
     "name": "#%%\n"
    }
   },
   "outputs": [],
   "source": [
    "def extract_ytchannel_to_db(res, sqlDB=None):\n",
    "    titles = []\n",
    "    published = []\n",
    "    videoIds = []\n",
    "\n",
    "    for i in range(len(res)):\n",
    "        titles.append(res[i]['snippet']['title'])\n",
    "        published.append(res[i]['snippet']['publishedAt'])\n",
    "        videoIds.append(res[i]['snippet']['resourceId']['videoId'])\n",
    "\n",
    "    \n",
    "    conn = sqlite3.connect(sqlDB)\n",
    "    c = conn.cursor()\n",
    "    c.execute('''create table opennass(titles text,\n",
    "    publised text,\n",
    "    videoIds text\n",
    "    )''')\n",
    "    conn.commit()\n",
    "\n",
    "\n",
    "\n",
    "    if sqlDB is not None:\n",
    "        c.execute(''' INSERT INTO opennass VALUES(?,?,?)''',(titles, published, videoIds))\n",
    "        conn.commit()\n",
    "        \n",
    "    return"
   ]
  },
  {
   "cell_type": "code",
   "execution_count": 43,
   "metadata": {
    "pycharm": {
     "name": "#%%\n"
    }
   },
   "outputs": [],
   "source": [
    "res = youtube.get_channel_videos('UUF45Z0qCtC3QEB6yoBKMUJQ')"
   ]
  },
  {
   "cell_type": "code",
   "execution_count": 41,
   "metadata": {
    "pycharm": {
     "name": "#%%\n"
    }
   },
   "outputs": [],
   "source": [
    "curr.execute('''create table onass(titles text,\n",
    "    publised text,\n",
    "    videoIds text\n",
    "    )''')\n",
    "conn.commit()    "
   ]
  },
  {
   "cell_type": "code",
   "execution_count": 49,
   "metadata": {
    "pycharm": {
     "name": "#%%\n"
    }
   },
   "outputs": [],
   "source": [
    "titles = []\n",
    "published = []\n",
    "videoIds = []\n",
    "\n",
    "for i in range(len(res)):\n",
    "        titles.append(res[i]['snippet']['title'])\n",
    "        published.append(res[i]['snippet']['publishedAt'])\n",
    "        videoIds.append(res[i]['snippet']['resourceId']['videoId'])\n",
    "\n",
    "\n",
    "    "
   ]
  },
  {
   "cell_type": "code",
   "execution_count": 51,
   "metadata": {
    "pycharm": {
     "name": "#%%\n"
    }
   },
   "outputs": [
    {
     "ename": "NameError",
     "evalue": "name 'c' is not defined",
     "output_type": "error",
     "traceback": [
      "\u001B[0;31m---------------------------------------------------------------------------\u001B[0m",
      "\u001B[0;31mNameError\u001B[0m                                 Traceback (most recent call last)",
      "\u001B[0;32m<ipython-input-51-0e5be364b00a>\u001B[0m in \u001B[0;36m<module>\u001B[0;34m\u001B[0m\n\u001B[0;32m----> 1\u001B[0;31m \u001B[0mc\u001B[0m\u001B[0;34m.\u001B[0m\u001B[0mexecute\u001B[0m\u001B[0;34m(\u001B[0m\u001B[0;34m''' INSERT INTO onass VALUES(?,?,?)'''\u001B[0m\u001B[0;34m,\u001B[0m\u001B[0;34m(\u001B[0m\u001B[0mtitles\u001B[0m\u001B[0;34m,\u001B[0m \u001B[0mpublished\u001B[0m\u001B[0;34m,\u001B[0m \u001B[0mvideoIds\u001B[0m\u001B[0;34m)\u001B[0m\u001B[0;34m)\u001B[0m\u001B[0;34m\u001B[0m\u001B[0;34m\u001B[0m\u001B[0m\n\u001B[0m\u001B[1;32m      2\u001B[0m \u001B[0mconn\u001B[0m\u001B[0;34m.\u001B[0m\u001B[0mcommit\u001B[0m\u001B[0;34m(\u001B[0m\u001B[0;34m)\u001B[0m\u001B[0;34m\u001B[0m\u001B[0;34m\u001B[0m\u001B[0m\n",
      "\u001B[0;31mNameError\u001B[0m: name 'c' is not defined"
     ]
    }
   ],
   "source": [
    "curr.execute(''' INSERT INTO onass VALUES(?,?,?)''',(titles, published, videoIds))\n",
    "conn.commit()"
   ]
  },
  {
   "cell_type": "code",
   "execution_count": null,
   "metadata": {
    "pycharm": {
     "name": "#%%\n"
    }
   },
   "outputs": [],
   "source": [
    "def data_entry():\n",
    "    res_df.to_sql('onass', conn, if_exists='replace')\n",
    "    conn.commit()\n",
    "    curr.close()\n",
    "    conn.close()\n",
    " \n",
    "data_entry()"
   ]
  }
 ],
 "metadata": {
  "kernelspec": {
   "display_name": "Python 3 (ipykernel)",
   "language": "python",
   "name": "python3"
  },
  "language_info": {
   "codemirror_mode": {
    "name": "ipython",
    "version": 3
   },
   "file_extension": ".py",
   "mimetype": "text/x-python",
   "name": "python",
   "nbconvert_exporter": "python",
   "pygments_lexer": "ipython3",
   "version": "3.9.12"
  }
 },
 "nbformat": 4,
 "nbformat_minor": 2
}